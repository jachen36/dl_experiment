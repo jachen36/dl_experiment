{
 "cells": [
  {
   "cell_type": "markdown",
   "metadata": {},
   "source": [
    "# Model Zoo -- Convolutional Netural Network\n",
    "\n",
    "Nothing special here, just a basic cnn to test out the dataset."
   ]
  },
  {
   "cell_type": "markdown",
   "metadata": {},
   "source": [
    "## Imports"
   ]
  },
  {
   "cell_type": "code",
   "execution_count": 1,
   "metadata": {},
   "outputs": [],
   "source": [
    "import time\n",
    "import numpy as np\n",
    "import pandas as pd\n",
    "import matplotlib.pyplot as plt\n",
    "import pdb\n",
    "\n",
    "import torch\n",
    "import torch.nn.functional as F\n",
    "from torchvision import datasets\n",
    "from torchvision import transforms\n",
    "from torch.utils.data import DataLoader\n",
    "import torchsummary"
   ]
  },
  {
   "cell_type": "code",
   "execution_count": 2,
   "metadata": {},
   "outputs": [],
   "source": [
    "from tqdm import tnrange, tqdm_notebook"
   ]
  },
  {
   "cell_type": "code",
   "execution_count": 3,
   "metadata": {},
   "outputs": [],
   "source": [
    "## to make pytorch reproducible \n",
    "# np.random.seed(8)\n",
    "# torch.manual_seed(8)\n",
    "# if torch.cuda.is_available():\n",
    "#     torch.backends.cudnn.deterministic = True  # this will impact performance\n",
    "#     torch.backends.cudnn.benchmark = False  #  enable the inbuilt cudnn auto-tuner to find the best algorithm to use for your hardware\n",
    "# torch.manual_seed(random_seed)"
   ]
  },
  {
   "cell_type": "markdown",
   "metadata": {},
   "source": [
    "## Settings and Dataset"
   ]
  },
  {
   "cell_type": "code",
   "execution_count": 4,
   "metadata": {},
   "outputs": [],
   "source": [
    "#############################\n",
    "## Settings\n",
    "#############################\n",
    "\n",
    "device = torch.device(\"cuda\" if torch.cuda.is_available() else \"cpu\")\n",
    "\n",
    "# Hyperparameters\n",
    "random_seed = 1\n",
    "learning_rate = 0.05\n",
    "num_epochs = 10\n",
    "batch_size = 128\n",
    "\n",
    "# Architecture\n",
    "num_classes = 10"
   ]
  },
  {
   "cell_type": "code",
   "execution_count": 5,
   "metadata": {},
   "outputs": [],
   "source": [
    "################################\n",
    "## MNIST Dataset\n",
    "################################\n",
    "\n",
    "# Note transforms.ToTensor() scales input images\n",
    "# to 0-1 range\n",
    "train_dataset = datasets.MNIST(root='data',\n",
    "                               train=True,\n",
    "                               transform=transforms.ToTensor(),\n",
    "                               download=True)\n",
    "\n",
    "test_dataset = datasets.MNIST(root='data',\n",
    "                              train=False,\n",
    "                              transform=transforms.ToTensor(),\n",
    "                              download=True)"
   ]
  },
  {
   "cell_type": "code",
   "execution_count": 6,
   "metadata": {},
   "outputs": [
    {
     "data": {
      "image/png": "[encoded data removed]",
      "text/plain": [
       "<Figure size 432x288 with 1 Axes>"
      ]
     },
     "metadata": {
      "needs_background": "light"
     },
     "output_type": "display_data"
    }
   ],
   "source": [
    "plt.imshow(train_dataset[0][0].squeeze().numpy(), cmap='gray');"
   ]
  },
  {
   "cell_type": "code",
   "execution_count": 7,
   "metadata": {},
   "outputs": [],
   "source": [
    "train_loader = DataLoader(dataset=train_dataset,\n",
    "                          batch_size=batch_size,\n",
    "                          shuffle=True)\n",
    "\n",
    "test_loader = DataLoader(dataset=test_dataset,\n",
    "                         batch_size=batch_size,\n",
    "                         shuffle=False)"
   ]
  },
  {
   "cell_type": "code",
   "execution_count": 8,
   "metadata": {},
   "outputs": [
    {
     "name": "stdout",
     "output_type": "stream",
     "text": [
      "============ train : 60,000 ============\n",
      "Image batch dimension torch.Size([128, 1, 28, 28])\n",
      "Image label dimension torch.Size([128])\n",
      "============ test : 10,000 ============\n",
      "Image batch dimension torch.Size([128, 1, 28, 28])\n",
      "Image label dimension torch.Size([128])\n"
     ]
    }
   ],
   "source": [
    "# Checking the dataset\n",
    "for name, dataset in zip(['train', 'test'], [train_loader, test_loader]):\n",
    "    print(f'============ {name} : {len(dataset.dataset):,} ============')\n",
    "    for images, labels in dataset:\n",
    "        \n",
    "        print('Image batch dimension', images.shape)\n",
    "        print('Image label dimension', labels.shape)\n",
    "        break"
   ]
  },
  {
   "cell_type": "markdown",
   "metadata": {},
   "source": [
    "## Model"
   ]
  },
  {
   "cell_type": "code",
   "execution_count": 9,
   "metadata": {},
   "outputs": [],
   "source": [
    "######################\n",
    "### Model\n",
    "######################\n",
    "\n",
    "## TODO: I think the channels out are wrong\n",
    "## TODO: need to normalize the images\n",
    "## TODO: After notebook can run, create the train/val split notebook\n",
    "\n",
    "class ConvNet(torch.nn.Module):\n",
    "    \n",
    "    def __init__(self, num_classes):\n",
    "        super(ConvNet, self).__init__()\n",
    "        \n",
    "        # calculate same padding:\n",
    "        # (w -k + 2*p)/s + 1 = 0\n",
    "        # => p = (s(o-1)) - w + k)/2\n",
    "        \n",
    "        # 28x28x1 => 28x28x4\n",
    "        self.conv_1 = torch.nn.Conv2d(in_channels=1, \n",
    "                                      out_channels=4,\n",
    "                                      kernel_size=(3,3),\n",
    "                                      stride=(1,1),\n",
    "                                      padding=1)  # (1(28-1) - 28 + 3) / 2 = 1\n",
    "        \n",
    "        # 28x28x4 => 14x14x4\n",
    "        self.pool_1 = torch.nn.MaxPool2d(kernel_size=(2,2),\n",
    "                                         stride=(2,2),\n",
    "                                         padding=0)  # (2(14-1) - 28 + 2) = 0\n",
    "        \n",
    "        # 14x14x4 => 14x14x8\n",
    "        self.conv_2 = torch.nn.Conv2d(in_channels=4,\n",
    "                                      out_channels=16,\n",
    "                                      kernel_size=(3,3),\n",
    "                                      stride=(1,1),\n",
    "                                      padding=1) # (1(14-1) - 14 + 4) / 2 = 1\n",
    "        \n",
    "        # 14x14x8 => 7x7x8\n",
    "        self.pool_2 = torch.nn.MaxPool2d(kernel_size=(2,2),\n",
    "                                         stride=(2,2),\n",
    "                                         padding=0) # (2(2-1) - 14 +2) = 0\n",
    "        \n",
    "        self.linear_1 = torch.nn.Linear(7*7*16, num_classes)\n",
    "        \n",
    "        # optionally initialize weights from Gaussian;\n",
    "        # Guassian weight init is not recommended and only for demonstration purposes\n",
    "        for m in self.modules():\n",
    "            if isinstance(m, torch.nn.Conv2d) or isinstance(m, torch.nn.Linear):\n",
    "                m.weight.data.normal_(0.0, 0.01)\n",
    "                m.bias.data.zero_()\n",
    "                if m.bias is not None:\n",
    "                    m.bias.detach().zero_()\n",
    "                    \n",
    "    def forward(self, x):\n",
    "        out = self.conv_1(x)\n",
    "        out = F.relu(out)\n",
    "        out = self.pool_1(out)\n",
    "\n",
    "        out = self.conv_2(out)\n",
    "        out = F.relu(out)\n",
    "        out = self.pool_2(out)\n",
    "\n",
    "        logits = self.linear_1(out.view(-1, 7*7*16))\n",
    "        return logits"
   ]
  },
  {
   "cell_type": "code",
   "execution_count": 10,
   "metadata": {},
   "outputs": [],
   "source": [
    "model = ConvNet(num_classes=num_classes)\n",
    "\n",
    "model = model.to(device)\n",
    "\n",
    "optimizer = torch.optim.SGD(model.parameters(), lr=learning_rate)"
   ]
  },
  {
   "cell_type": "code",
   "execution_count": 11,
   "metadata": {},
   "outputs": [
    {
     "name": "stdout",
     "output_type": "stream",
     "text": [
      "----------------------------------------------------------------\n",
      "        Layer (type)               Output Shape         Param #\n",
      "================================================================\n",
      "            Conv2d-1           [128, 4, 28, 28]              40\n",
      "         MaxPool2d-2           [128, 4, 14, 14]               0\n",
      "            Conv2d-3          [128, 16, 14, 14]             592\n",
      "         MaxPool2d-4            [128, 16, 7, 7]               0\n",
      "            Linear-5                  [128, 10]           7,850\n",
      "================================================================\n",
      "Total params: 8,482\n",
      "Trainable params: 8,482\n",
      "Non-trainable params: 0\n",
      "----------------------------------------------------------------\n",
      "Input size (MB): 0.38\n",
      "Forward/backward pass size (MB): 7.67\n",
      "Params size (MB): 0.03\n",
      "Estimated Total Size (MB): 8.08\n",
      "----------------------------------------------------------------\n"
     ]
    }
   ],
   "source": [
    "torchsummary.summary(model, (1, 28, 28), batch_size=batch_size, device=str(device))"
   ]
  },
  {
   "cell_type": "markdown",
   "metadata": {},
   "source": [
    "## Training"
   ]
  },
  {
   "cell_type": "code",
   "execution_count": 12,
   "metadata": {},
   "outputs": [],
   "source": [
    "def compute_accuracy(model, data_loader):\n",
    "    correct_pred, num_examples = 0, 0\n",
    "    for features, targets in data_loader:\n",
    "        features = features.to(device)\n",
    "        targets = targets.to(device)\n",
    "        logits, probas = model(features)\n",
    "        _, predicted_labels = torch.max(probas, 1)\n",
    "        num_examples += targets.size(0)\n",
    "        correct_pred += (predicted_labels == targets).sum()\n",
    "    return correct_pred.float()/num_examples * 100"
   ]
  },
  {
   "cell_type": "code",
   "execution_count": 13,
   "metadata": {},
   "outputs": [],
   "source": [
    "## create a train_model function isntead of current approach. \n",
    "\n",
    "## need to calcualte the cost functionf or validation\n",
    "\n",
    "## Need to make sure I have tdmp notebook updator\n",
    "\n",
    "## for print out\n",
    "## just end of epoch, validation\n",
    "# time between each epoch?\n",
    "# or just total time...?\n",
    "\n",
    "\n",
    "## For graph\n",
    "## save all batch.\n",
    "## when of epoch as darker dot\n",
    "## also save validation set\n",
    "## "
   ]
  },
  {
   "cell_type": "code",
   "execution_count": 14,
   "metadata": {},
   "outputs": [],
   "source": [
    "# start_time = time.time()    \n",
    "# for epoch in tnrange(num_epochs):\n",
    "#     model = model.train()\n",
    "#     for batch_idx, (features, targets) in tqdm_notebook(enumerate(train_loader), desc='batch', leave=False, total=len(train_loader)):\n",
    "        \n",
    "#         features = features.to(device)\n",
    "#         targets = targets.to(device)\n",
    "\n",
    "#         ### FORWARD AND BACK PROP\n",
    "#         logits, probas = model(features)\n",
    "#         cost = F.cross_entropy(logits, targets)\n",
    "#         optimizer.zero_grad()\n",
    "        \n",
    "#         cost.backward()\n",
    "        \n",
    "#         ### UPDATE MODEL PARAMETERS\n",
    "#         optimizer.step()\n",
    "        \n",
    "# #         ### LOGGING\n",
    "# #         if not batch_idx % 50:\n",
    "# #             print ('Epoch: %03d/%03d | Batch %03d/%03d | Cost: %.4f' \n",
    "# #                    %(epoch+1, num_epochs, batch_idx, \n",
    "# #                      len(train_loader), cost))\n",
    "    \n",
    "# #     ### LOGGING\n",
    "# #     print ('Epoch: %03d/%03d | Batch %03d/%03d | Cost: %.4f' \n",
    "# #                    %(epoch+1, num_epochs, batch_idx, \n",
    "# #                      len(train_loader), cost))\n",
    "    \n",
    "# #     model = model.eval()\n",
    "# #     print('Epoch: %03d/%03d training accuracy: %.2f%%' % (\n",
    "# #           epoch+1, num_epochs, \n",
    "# #           compute_accuracy(model, test_loader)))\n",
    "\n",
    "    \n",
    "# #     print('Time elapsed: %.2f min' % ((time.time() - start_time)/60))\n",
    "    \n",
    "#     # if verbose print\n",
    "#     print(f'Epoch: {epoch}/{num_epoch:03d} Cost: {cost:.4f}', end=\" | \")\n",
    "    \n",
    "#     model = model.eval()\n",
    "#     print(f'Val Cost: {tmp4:.4f} Acc: {tmp5:.2f}%', end=\" | \")\n",
    "    \n",
    "#     print(f'Time elapsed: {(time.time() - start_time)/60:.2f} min')\n",
    "    \n",
    "    \n",
    "# print('Total Training Time: %.2f min' % ((time.time() - start_time)/60))"
   ]
  },
  {
   "cell_type": "code",
   "execution_count": 15,
   "metadata": {},
   "outputs": [],
   "source": [
    "criterion = torch.nn.CrossEntropyLoss()"
   ]
  },
  {
   "cell_type": "code",
   "execution_count": 16,
   "metadata": {},
   "outputs": [],
   "source": [
    "dataloaders = {'train': train_loader,\n",
    "               'val': test_loader}\n",
    "dataset_sizes = {'train': len(train_dataset),\n",
    "                'val': len(test_dataset)}"
   ]
  },
  {
   "cell_type": "code",
   "execution_count": 17,
   "metadata": {},
   "outputs": [],
   "source": [
    "def train_model(model, criterion, optimizer, dataloaders, scheduler=None, num_epochs=25):\n",
    "    since = time.time()\n",
    "    \n",
    "    batch_loss_record = []\n",
    "    val_loss_record = []\n",
    "    \n",
    "    for epoch in tnrange(num_epochs):\n",
    "        print(f'Epoch {epoch:03d}/{num_epochs - 1:03d}')\n",
    "        print('-' * 10)\n",
    "        \n",
    "        for phase in ['train', 'val']:\n",
    "            if phase == 'train':\n",
    "                if scheduler: scheduler.step()\n",
    "                model.train()\n",
    "            else:\n",
    "                model.eval()\n",
    "                running_loss = 0.0\n",
    "                running_corrects = 0\n",
    "                \n",
    "            # Iterate over data.\n",
    "            for inputs, labels in dataloaders[phase]:\n",
    "                inputs = inputs.to(device)\n",
    "                labels = labels.to(device)\n",
    "\n",
    "                optimizer.zero_grad()\n",
    "\n",
    "                # forward\n",
    "                # track history if only in train\n",
    "                with torch.set_grad_enabled(phase == 'train'):\n",
    "                    outputs = model(inputs)\n",
    "                    _, preds = torch.max(outputs, 1)\n",
    "                    loss = criterion(outputs, labels)\n",
    "\n",
    "                    # backward + optimize only if in training phase\n",
    "                    if phase == 'train':\n",
    "                        loss.backward()\n",
    "                        optimizer.step()\n",
    "                        batch_loss_record.append(loss.item())\n",
    "                    else:\n",
    "                        # validation\n",
    "                        running_loss += loss.item() * inputs.size(0)\n",
    "                        running_corrects += torch.sum(preds == labels.data)\n",
    "\n",
    "                \n",
    "            if phase == 'train':\n",
    "#                 pdb.set_trace()\n",
    "                print(f'{phase} Batch Loss: {loss.item():.4f} Batch Acc: {torch.sum(preds == labels).double() / inputs.size(0):.4f}', end = \" | \")\n",
    "            else:\n",
    "                epoch_loss = running_loss / dataset_sizes[phase]\n",
    "                epoch_acc = running_corrects.double() / dataset_sizes[phase]\n",
    "                print(f'{phase} Loss: {epoch_loss:.4f} Acc: {epoch_acc:.4f}')\n",
    "                \n",
    "                val_loss_record.append(epoch_loss)\n",
    "        \n",
    "    time_elapsed = time.time() - since\n",
    "    print('training complete in {:.0f}m {:.0f}s'.format(\n",
    "            time_elapsed // 60, time_elapsed % 60))\n",
    "    return batch_loss_record, val_loss_record"
   ]
  },
  {
   "cell_type": "code",
   "execution_count": 18,
   "metadata": {},
   "outputs": [
    {
     "data": {
      "application/vnd.jupyter.widget-view+json": {
       "model_id": "18ecbe82d40344ebaaa096357bf5695b",
       "version_major": 2,
       "version_minor": 0
      },
      "text/plain": [
       "HBox(children=(IntProgress(value=0, max=10), HTML(value='')))"
      ]
     },
     "metadata": {},
     "output_type": "display_data"
    },
    {
     "name": "stdout",
     "output_type": "stream",
     "text": [
      "Epoch 000/009\n",
      "----------\n",
      "train Batch Loss: 2.2666 Batch Acc: 0.4167 | val Loss: 2.2614 Acc: 0.4772\n",
      "Epoch 001/009\n",
      "----------\n",
      "train Batch Loss: 0.3111 Batch Acc: 0.9167 | val Loss: 0.2650 Acc: 0.9231\n",
      "Epoch 002/009\n",
      "----------\n",
      "train Batch Loss: 0.1795 Batch Acc: 0.9375 | val Loss: 0.1666 Acc: 0.9504\n",
      "Epoch 003/009\n",
      "----------\n",
      "train Batch Loss: 0.1305 Batch Acc: 0.9583 | val Loss: 0.1385 Acc: 0.9575\n",
      "Epoch 004/009\n",
      "----------\n",
      "train Batch Loss: 0.1648 Batch Acc: 0.9583 | val Loss: 0.1028 Acc: 0.9681\n",
      "Epoch 005/009\n",
      "----------\n",
      "train Batch Loss: 0.0967 Batch Acc: 0.9688 | val Loss: 0.0916 Acc: 0.9711\n",
      "Epoch 006/009\n",
      "----------\n",
      "train Batch Loss: 0.0961 Batch Acc: 0.9688 | val Loss: 0.0821 Acc: 0.9733\n",
      "Epoch 007/009\n",
      "----------\n",
      "train Batch Loss: 0.0657 Batch Acc: 0.9896 | val Loss: 0.0763 Acc: 0.9747\n",
      "Epoch 008/009\n",
      "----------\n",
      "train Batch Loss: 0.0535 Batch Acc: 0.9792 | val Loss: 0.0708 Acc: 0.9768\n",
      "Epoch 009/009\n",
      "----------\n",
      "train Batch Loss: 0.0482 Batch Acc: 0.9896 | val Loss: 0.0852 Acc: 0.9737\n",
      "\n",
      "training complete in 0m 57s\n"
     ]
    }
   ],
   "source": [
    "batch_loss, val_loss = train_model(model, criterion, optimizer, dataloaders, num_epochs=10)"
   ]
  },
  {
   "cell_type": "code",
   "execution_count": 18,
   "metadata": {},
   "outputs": [
    {
     "data": {
      "application/vnd.jupyter.widget-view+json": {
       "model_id": "6fdc3110f5b14e6b9290b04cf9987fd6",
       "version_major": 2,
       "version_minor": 0
      },
      "text/plain": [
       "HBox(children=(IntProgress(value=0, max=10), HTML(value='')))"
      ]
     },
     "metadata": {},
     "output_type": "display_data"
    },
    {
     "name": "stdout",
     "output_type": "stream",
     "text": [
      "Epoch 000/009\n",
      "----------\n",
      "train Batch Loss: 0.6684 Batch Acc: 0.7708 | val Loss: 0.6586 Acc: 0.7688\n",
      "Epoch 001/009\n",
      "----------\n",
      "train Batch Loss: 0.2970 Batch Acc: 0.9271 | val Loss: 0.2508 Acc: 0.9262\n",
      "Epoch 002/009\n",
      "----------\n",
      "train Batch Loss: 0.0478 Batch Acc: 1.0000 | val Loss: 0.1503 Acc: 0.9547\n",
      "Epoch 003/009\n",
      "----------\n",
      "train Batch Loss: 0.1391 Batch Acc: 0.9479 | val Loss: 0.1183 Acc: 0.9638\n",
      "Epoch 004/009\n",
      "----------\n",
      "train Batch Loss: 0.0768 Batch Acc: 0.9792 | val Loss: 0.0949 Acc: 0.9714\n",
      "Epoch 005/009\n",
      "----------\n",
      "train Batch Loss: 0.0808 Batch Acc: 0.9583 | val Loss: 0.0877 Acc: 0.9735\n",
      "Epoch 006/009\n",
      "----------\n",
      "train Batch Loss: 0.0424 Batch Acc: 0.9792 | val Loss: 0.0811 Acc: 0.9733\n",
      "Epoch 007/009\n",
      "----------\n",
      "train Batch Loss: 0.0966 Batch Acc: 0.9688 | val Loss: 0.0828 Acc: 0.9738\n",
      "Epoch 008/009\n",
      "----------\n",
      "train Batch Loss: 0.0727 Batch Acc: 0.9792 | val Loss: 0.0641 Acc: 0.9785\n",
      "Epoch 009/009\n",
      "----------\n",
      "train Batch Loss: 0.1043 Batch Acc: 0.9688 | val Loss: 0.0654 Acc: 0.9789\n",
      "\n",
      "training complete in 0m 57s\n"
     ]
    }
   ],
   "source": [
    "batch_loss, val_loss = train_model(model, criterion, optimizer, dataloaders, num_epochs=10)"
   ]
  },
  {
   "cell_type": "code",
   "execution_count": null,
   "metadata": {},
   "outputs": [],
   "source": []
  },
  {
   "cell_type": "code",
   "execution_count": 18,
   "metadata": {},
   "outputs": [
    {
     "data": {
      "application/vnd.jupyter.widget-view+json": {
       "model_id": "4f316b7a7e634da4bbd899b04af565df",
       "version_major": 2,
       "version_minor": 0
      },
      "text/plain": [
       "HBox(children=(IntProgress(value=0, max=10), HTML(value='')))"
      ]
     },
     "metadata": {},
     "output_type": "display_data"
    },
    {
     "name": "stdout",
     "output_type": "stream",
     "text": [
      "Epoch 000/009\n",
      "----------\n",
      "train Batch Loss: 2.3068 Batch Acc: 0.0833 | val Loss: 2.3010 Acc: 0.1135\n",
      "Epoch 001/009\n",
      "----------\n",
      "train Batch Loss: 2.3124 Batch Acc: 0.0625 | val Loss: 2.3004 Acc: 0.1135\n",
      "Epoch 002/009\n",
      "----------\n",
      "train Batch Loss: 0.3391 Batch Acc: 0.8958 | val Loss: 0.3971 Acc: 0.8827\n",
      "Epoch 003/009\n",
      "----------\n",
      "train Batch Loss: 0.2923 Batch Acc: 0.8958 | val Loss: 0.2381 Acc: 0.9261\n",
      "Epoch 004/009\n",
      "----------\n",
      "train Batch Loss: 0.1450 Batch Acc: 0.9479 | val Loss: 0.1276 Acc: 0.9617\n",
      "Epoch 005/009\n",
      "----------\n",
      "train Batch Loss: 0.2747 Batch Acc: 0.9583 | val Loss: 0.1037 Acc: 0.9679\n",
      "Epoch 006/009\n",
      "----------\n",
      "train Batch Loss: 0.1809 Batch Acc: 0.9271 | val Loss: 0.0908 Acc: 0.9710\n",
      "Epoch 007/009\n",
      "----------\n",
      "train Batch Loss: 0.0801 Batch Acc: 0.9583 | val Loss: 0.0896 Acc: 0.9688\n",
      "Epoch 008/009\n",
      "----------\n",
      "train Batch Loss: 0.0755 Batch Acc: 0.9792 | val Loss: 0.0692 Acc: 0.9759\n",
      "Epoch 009/009\n",
      "----------\n",
      "train Batch Loss: 0.0976 Batch Acc: 0.9896 | val Loss: 0.0713 Acc: 0.9761\n",
      "\n",
      "training complete in 0m 56s\n"
     ]
    }
   ],
   "source": [
    "batch_loss, val_loss = train_model(model, criterion, optimizer, dataloaders, num_epochs=10)"
   ]
  },
  {
   "cell_type": "code",
   "execution_count": 20,
   "metadata": {},
   "outputs": [],
   "source": [
    "tmp = torch.randint(0, 10, size=(2,3,4))"
   ]
  },
  {
   "cell_type": "code",
   "execution_count": 23,
   "metadata": {},
   "outputs": [
    {
     "data": {
      "text/plain": [
       "tensor([[[8, 1, 8, 8],\n",
       "         [7, 7, 7, 4],\n",
       "         [5, 6, 2, 8]],\n",
       "\n",
       "        [[0, 2, 3, 0],\n",
       "         [0, 3, 6, 8],\n",
       "         [0, 0, 2, 9]]])"
      ]
     },
     "execution_count": 23,
     "metadata": {},
     "output_type": "execute_result"
    }
   ],
   "source": [
    "tmp"
   ]
  },
  {
   "cell_type": "code",
   "execution_count": 24,
   "metadata": {},
   "outputs": [
    {
     "data": {
      "text/plain": [
       "tensor([[[8, 1, 8, 8],\n",
       "         [7, 7, 7, 4],\n",
       "         [5, 6, 2, 8]],\n",
       "\n",
       "        [[0, 2, 3, 0],\n",
       "         [0, 3, 6, 8],\n",
       "         [0, 0, 2, 9]]])"
      ]
     },
     "execution_count": 24,
     "metadata": {},
     "output_type": "execute_result"
    }
   ],
   "source": [
    "tmp.data"
   ]
  },
  {
   "cell_type": "code",
   "execution_count": null,
   "metadata": {},
   "outputs": [],
   "source": []
  },
  {
   "cell_type": "code",
   "execution_count": 16,
   "metadata": {},
   "outputs": [
    {
     "data": {
      "application/vnd.jupyter.widget-view+json": {
       "model_id": "763117ea7d05471abdada057db27431e",
       "version_major": 2,
       "version_minor": 0
      },
      "text/plain": [
       "HBox(children=(IntProgress(value=0, max=10), HTML(value='')))"
      ]
     },
     "metadata": {},
     "output_type": "display_data"
    },
    {
     "name": "stdout",
     "output_type": "stream",
     "text": [
      "Epoch 000/009\n",
      "----------\n",
      "train Batch Loss: 2.2919 Batch Acc: 0.0000 | val Loss: 2.2808 Acc: 0.2452\n",
      "Epoch 001/009\n",
      "----------\n",
      "train Batch Loss: 0.2125 Batch Acc: 0.0000 | val Loss: 0.2333 Acc: 0.9337\n",
      "Epoch 002/009\n",
      "----------\n",
      "train Batch Loss: 0.2638 Batch Acc: 0.0000 | val Loss: 0.1556 Acc: 0.9523\n",
      "Epoch 003/009\n",
      "----------\n",
      "train Batch Loss: 0.1145 Batch Acc: 0.0000 | val Loss: 0.1213 Acc: 0.9625\n",
      "Epoch 004/009\n",
      "----------\n",
      "train Batch Loss: 0.0463 Batch Acc: 0.0000 | val Loss: 0.0966 Acc: 0.9695\n",
      "Epoch 005/009\n",
      "----------\n",
      "train Batch Loss: 0.1713 Batch Acc: 0.0000 | val Loss: 0.0891 Acc: 0.9716\n",
      "Epoch 006/009\n",
      "----------\n",
      "train Batch Loss: 0.0745 Batch Acc: 0.0000 | val Loss: 0.0967 Acc: 0.9676\n",
      "Epoch 007/009\n",
      "----------\n",
      "train Batch Loss: 0.0408 Batch Acc: 0.0000 | val Loss: 0.0740 Acc: 0.9764\n",
      "Epoch 008/009\n",
      "----------\n",
      "train Batch Loss: 0.2236 Batch Acc: 0.0000 | val Loss: 0.1028 Acc: 0.9659\n",
      "Epoch 009/009\n",
      "----------\n",
      "train Batch Loss: 0.0462 Batch Acc: 1.0000 | val Loss: 0.0658 Acc: 0.9792\n",
      "\n",
      "training complete in 0m 57s\n"
     ]
    }
   ],
   "source": [
    "batch_loss, val_loss = train_model(model, criterion, optimizer, dataloaders, num_epochs=10)"
   ]
  },
  {
   "cell_type": "code",
   "execution_count": 19,
   "metadata": {},
   "outputs": [
    {
     "data": {
      "text/plain": [
       "4690"
      ]
     },
     "execution_count": 19,
     "metadata": {},
     "output_type": "execute_result"
    }
   ],
   "source": [
    "len(batch_loss)"
   ]
  },
  {
   "cell_type": "code",
   "execution_count": 21,
   "metadata": {},
   "outputs": [
    {
     "data": {
      "image/png": "[encoded data removed]",
      "text/plain": [
       "<Figure size 1152x576 with 1 Axes>"
      ]
     },
     "metadata": {
      "needs_background": "light"
     },
     "output_type": "display_data"
    }
   ],
   "source": [
    "fig, ax = plt.subplots(figsize=(16,8))\n",
    "ax.plot(np.arange(len(batch_loss)), batch_loss, linewidth=1, alpha=.5, label='train')\n",
    "ax.plot(np.arange(1, num_epochs+1)*len(dataloaders['train']), val_loss, label='val')\n",
    "plt.xlabel('iterations')\n",
    "plt.ylabel('lost')\n",
    "ax.legend();"
   ]
  },
  {
   "cell_type": "code",
   "execution_count": null,
   "metadata": {},
   "outputs": [],
   "source": []
  }
 ],
 "metadata": {
  "kernelspec": {
   "display_name": "Python 3",
   "language": "python",
   "name": "python3"
  },
  "language_info": {
   "codemirror_mode": {
    "name": "ipython",
    "version": 3
   },
   "file_extension": ".py",
   "mimetype": "text/x-python",
   "name": "python",
   "nbconvert_exporter": "python",
   "pygments_lexer": "ipython3",
   "version": "3.7.3"
  }
 },
 "nbformat": 4,
 "nbformat_minor": 2
}
