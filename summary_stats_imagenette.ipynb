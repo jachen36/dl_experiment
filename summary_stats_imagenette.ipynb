{
 "cells": [
  {
   "cell_type": "markdown",
   "metadata": {},
   "source": [
    "# Summary Stats on Imagenette\n",
    "\n",
    "[Imagenette](https://github.com/fastai/imagenette) is a smaller dataset of imagenet that contains 10 easily differentiable classes:   \n",
    "* tench (n01440764)\n",
    "* English springer (n02102040)\n",
    "* cassette player (n02979186)\n",
    "* chain saw (n03000684)\n",
    "* church (n03028079)\n",
    "* French horn (n03394916)\n",
    "* garbage truck (n03417042)\n",
    "* gas pump (n03425413)\n",
    "* golf ball (n03445777)\n",
    "* parachute (n03888257)\n",
    "\n",
    "Imagenet Class Idx to human readable names in [json](https://s3.amazonaws.com/deep-learning-models/image-models/imagenet_class_index.json) "
   ]
  },
  {
   "cell_type": "code",
   "execution_count": 5,
   "metadata": {},
   "outputs": [],
   "source": [
    "import fastai\n",
    "from fastai import *\n",
    "from fastai.vision import *\n",
    "from tqdm import tqdm_notebook\n",
    "from pathlib import Path"
   ]
  },
  {
   "cell_type": "markdown",
   "metadata": {},
   "source": [
    "# Import the Data"
   ]
  },
  {
   "cell_type": "code",
   "execution_count": 2,
   "metadata": {},
   "outputs": [
    {
     "data": {
      "text/plain": [
       "PosixPath('data/imagenette')"
      ]
     },
     "execution_count": 2,
     "metadata": {},
     "output_type": "execute_result"
    }
   ],
   "source": [
    "path = untar_data(URLs.IMAGENETTE, dest='data'); path"
   ]
  },
  {
   "cell_type": "code",
   "execution_count": 6,
   "metadata": {},
   "outputs": [
    {
     "name": "stdout",
     "output_type": "stream",
     "text": [
      "\u001b[01;34m.\u001b[00m\n",
      "├── \u001b[01;34mdata\u001b[00m\n",
      "│   └── \u001b[01;34mimagenette\u001b[00m\n",
      "│       ├── \u001b[01;34mtrain\u001b[00m\n",
      "│       │   ├── \u001b[01;34mn01440764\u001b[00m\n",
      "│       │   ├── \u001b[01;34mn02102040\u001b[00m\n",
      "│       │   ├── \u001b[01;34mn02979186\u001b[00m\n",
      "│       │   ├── \u001b[01;34mn03000684\u001b[00m\n",
      "│       │   ├── \u001b[01;34mn03028079\u001b[00m\n",
      "│       │   ├── \u001b[01;34mn03394916\u001b[00m\n",
      "│       │   ├── \u001b[01;34mn03417042\u001b[00m\n",
      "│       │   ├── \u001b[01;34mn03425413\u001b[00m\n",
      "│       │   ├── \u001b[01;34mn03445777\u001b[00m\n",
      "│       │   └── \u001b[01;34mn03888257\u001b[00m\n",
      "│       └── \u001b[01;34mval\u001b[00m\n",
      "│           ├── \u001b[01;34mn01440764\u001b[00m\n",
      "│           ├── \u001b[01;34mn02102040\u001b[00m\n",
      "│           ├── \u001b[01;34mn02979186\u001b[00m\n",
      "│           ├── \u001b[01;34mn03000684\u001b[00m\n",
      "│           ├── \u001b[01;34mn03028079\u001b[00m\n",
      "│           ├── \u001b[01;34mn03394916\u001b[00m\n",
      "│           ├── \u001b[01;34mn03417042\u001b[00m\n",
      "│           ├── \u001b[01;34mn03425413\u001b[00m\n",
      "│           ├── \u001b[01;34mn03445777\u001b[00m\n",
      "│           └── \u001b[01;34mn03888257\u001b[00m\n",
      "└── \u001b[01;34mtmp\u001b[00m\n",
      "\n",
      "25 directories\n"
     ]
    }
   ],
   "source": [
    "!tree -d"
   ]
  },
  {
   "cell_type": "code",
   "execution_count": 3,
   "metadata": {},
   "outputs": [
    {
     "name": "stdout",
     "output_type": "stream",
     "text": [
      "\u001b[01;34mdata/imagenette\u001b[00m\n",
      "├── \u001b[01;34mtrain\u001b[00m\n",
      "│   ├── \u001b[01;34mn01440764\u001b[00m\n",
      "│   ├── \u001b[01;34mn02102040\u001b[00m\n",
      "│   ├── \u001b[01;34mn02979186\u001b[00m\n",
      "│   ├── \u001b[01;34mn03000684\u001b[00m\n",
      "│   ├── \u001b[01;34mn03028079\u001b[00m\n",
      "│   ├── \u001b[01;34mn03394916\u001b[00m\n",
      "│   ├── \u001b[01;34mn03417042\u001b[00m\n",
      "│   ├── \u001b[01;34mn03425413\u001b[00m\n",
      "│   ├── \u001b[01;34mn03445777\u001b[00m\n",
      "│   └── \u001b[01;34mn03888257\u001b[00m\n",
      "└── \u001b[01;34mval\u001b[00m\n",
      "    ├── \u001b[01;34mn01440764\u001b[00m\n",
      "    ├── \u001b[01;34mn02102040\u001b[00m\n",
      "    ├── \u001b[01;34mn02979186\u001b[00m\n",
      "    ├── \u001b[01;34mn03000684\u001b[00m\n",
      "    ├── \u001b[01;34mn03028079\u001b[00m\n",
      "    ├── \u001b[01;34mn03394916\u001b[00m\n",
      "    ├── \u001b[01;34mn03417042\u001b[00m\n",
      "    ├── \u001b[01;34mn03425413\u001b[00m\n",
      "    ├── \u001b[01;34mn03445777\u001b[00m\n",
      "    └── \u001b[01;34mn03888257\u001b[00m\n",
      "\n",
      "22 directories\n"
     ]
    }
   ],
   "source": [
    "!tree -d {path}"
   ]
  },
  {
   "cell_type": "code",
   "execution_count": 17,
   "metadata": {},
   "outputs": [],
   "source": [
    "def images_per_class(dir_pn):\n",
    "    '''\n",
    "        count the number of samples in each class\n",
    "        expect folder format of \n",
    "        dir_pn\n",
    "        |-- class1\n",
    "        |    |-- 123.jpg\n",
    "        |    |-- n39.jpg\n",
    "        |-- class3\n",
    "        |    |-- 847.jpg\n",
    "        |    |-- 3jd.jpb\n",
    "    '''\n",
    "    dir_pn = Path(dir_pn)\n",
    "    cls_folders = [fn.name for fn in dir_pn.glob(\"*\")]\n",
    "    samples = [len(list((dir_pn/folder).glob(\"*\"))) for folder in cls_folders]\n",
    "    return cls_folders, samples"
   ]
  },
  {
   "cell_type": "code",
   "execution_count": 18,
   "metadata": {},
   "outputs": [],
   "source": [
    "tmp = images_per_class(path/'train')"
   ]
  },
  {
   "cell_type": "code",
   "execution_count": 19,
   "metadata": {},
   "outputs": [
    {
     "data": {
      "text/plain": [
       "(['n03028079',\n",
       "  'n03394916',\n",
       "  'n03445777',\n",
       "  'n03425413',\n",
       "  'n02979186',\n",
       "  'n03000684',\n",
       "  'n01440764',\n",
       "  'n03888257',\n",
       "  'n02102040',\n",
       "  'n03417042'],\n",
       " [1300, 1300, 1300, 1300, 1300, 1194, 1300, 1300, 1300, 1300])"
      ]
     },
     "execution_count": 19,
     "metadata": {},
     "output_type": "execute_result"
    }
   ],
   "source": [
    "tmp"
   ]
  },
  {
   "cell_type": "code",
   "execution_count": 16,
   "metadata": {},
   "outputs": [
    {
     "ename": "AttributeError",
     "evalue": "'str' object has no attribute 'is_file'",
     "output_type": "error",
     "traceback": [
      "\u001b[0;31m---------------------------------------------------------------------------\u001b[0m",
      "\u001b[0;31mAttributeError\u001b[0m                            Traceback (most recent call last)",
      "\u001b[0;32m<ipython-input-16-3a8636bd5d0d>\u001b[0m in \u001b[0;36m<module>\u001b[0;34m\u001b[0m\n\u001b[0;32m----> 1\u001b[0;31m \u001b[0mpath\u001b[0m\u001b[0;34m/\u001b[0m\u001b[0;34m'train'\u001b[0m\u001b[0;34m.\u001b[0m\u001b[0mis_file\u001b[0m\u001b[0;34m(\u001b[0m\u001b[0;34m)\u001b[0m\u001b[0;34m\u001b[0m\u001b[0;34m\u001b[0m\u001b[0m\n\u001b[0m",
      "\u001b[0;31mAttributeError\u001b[0m: 'str' object has no attribute 'is_file'"
     ]
    }
   ],
   "source": [
    "path/'train'.is_file()"
   ]
  },
  {
   "cell_type": "code",
   "execution_count": 7,
   "metadata": {},
   "outputs": [
    {
     "data": {
      "text/plain": [
       "['n03028079',\n",
       " 'n03394916',\n",
       " 'n03445777',\n",
       " 'n03425413',\n",
       " 'n02979186',\n",
       " 'n03000684',\n",
       " 'n01440764',\n",
       " 'n03888257',\n",
       " 'n02102040',\n",
       " 'n03417042']"
      ]
     },
     "execution_count": 7,
     "metadata": {},
     "output_type": "execute_result"
    }
   ],
   "source": [
    "test2 = [fn.name for fn in (path/'train').glob(\"*\")]; test2"
   ]
  },
  {
   "cell_type": "code",
   "execution_count": 10,
   "metadata": {},
   "outputs": [],
   "source": [
    "samples = [len(list((path/'train'/x).glob(\"*\"))) for x in test2]"
   ]
  },
  {
   "cell_type": "code",
   "execution_count": 11,
   "metadata": {},
   "outputs": [
    {
     "data": {
      "text/plain": [
       "[1300, 1300, 1300, 1300, 1300, 1194, 1300, 1300, 1300, 1300]"
      ]
     },
     "execution_count": 11,
     "metadata": {},
     "output_type": "execute_result"
    }
   ],
   "source": [
    "samples"
   ]
  },
  {
   "cell_type": "code",
   "execution_count": 14,
   "metadata": {},
   "outputs": [
    {
     "data": {
      "text/html": [
       "<div>\n",
       "<style scoped>\n",
       "    .dataframe tbody tr th:only-of-type {\n",
       "        vertical-align: middle;\n",
       "    }\n",
       "\n",
       "    .dataframe tbody tr th {\n",
       "        vertical-align: top;\n",
       "    }\n",
       "\n",
       "    .dataframe thead th {\n",
       "        text-align: right;\n",
       "    }\n",
       "</style>\n",
       "<table border=\"1\" class=\"dataframe\">\n",
       "  <thead>\n",
       "    <tr style=\"text-align: right;\">\n",
       "      <th></th>\n",
       "      <th>class</th>\n",
       "      <th>train</th>\n",
       "    </tr>\n",
       "  </thead>\n",
       "  <tbody>\n",
       "    <tr>\n",
       "      <th>0</th>\n",
       "      <td>n03028079</td>\n",
       "      <td>1300</td>\n",
       "    </tr>\n",
       "    <tr>\n",
       "      <th>1</th>\n",
       "      <td>n03394916</td>\n",
       "      <td>1300</td>\n",
       "    </tr>\n",
       "    <tr>\n",
       "      <th>2</th>\n",
       "      <td>n03445777</td>\n",
       "      <td>1300</td>\n",
       "    </tr>\n",
       "    <tr>\n",
       "      <th>3</th>\n",
       "      <td>n03425413</td>\n",
       "      <td>1300</td>\n",
       "    </tr>\n",
       "    <tr>\n",
       "      <th>4</th>\n",
       "      <td>n02979186</td>\n",
       "      <td>1300</td>\n",
       "    </tr>\n",
       "    <tr>\n",
       "      <th>5</th>\n",
       "      <td>n03000684</td>\n",
       "      <td>1194</td>\n",
       "    </tr>\n",
       "    <tr>\n",
       "      <th>6</th>\n",
       "      <td>n01440764</td>\n",
       "      <td>1300</td>\n",
       "    </tr>\n",
       "    <tr>\n",
       "      <th>7</th>\n",
       "      <td>n03888257</td>\n",
       "      <td>1300</td>\n",
       "    </tr>\n",
       "    <tr>\n",
       "      <th>8</th>\n",
       "      <td>n02102040</td>\n",
       "      <td>1300</td>\n",
       "    </tr>\n",
       "    <tr>\n",
       "      <th>9</th>\n",
       "      <td>n03417042</td>\n",
       "      <td>1300</td>\n",
       "    </tr>\n",
       "  </tbody>\n",
       "</table>\n",
       "</div>"
      ],
      "text/plain": [
       "       class  train\n",
       "0  n03028079   1300\n",
       "1  n03394916   1300\n",
       "2  n03445777   1300\n",
       "3  n03425413   1300\n",
       "4  n02979186   1300\n",
       "5  n03000684   1194\n",
       "6  n01440764   1300\n",
       "7  n03888257   1300\n",
       "8  n02102040   1300\n",
       "9  n03417042   1300"
      ]
     },
     "execution_count": 14,
     "metadata": {},
     "output_type": "execute_result"
    }
   ],
   "source": [
    "pd.DataFrame({'class': test2, \"train\": samples})"
   ]
  },
  {
   "cell_type": "code",
   "execution_count": 15,
   "metadata": {},
   "outputs": [
    {
     "data": {
      "text/html": [
       "<div>\n",
       "<style scoped>\n",
       "    .dataframe tbody tr th:only-of-type {\n",
       "        vertical-align: middle;\n",
       "    }\n",
       "\n",
       "    .dataframe tbody tr th {\n",
       "        vertical-align: top;\n",
       "    }\n",
       "\n",
       "    .dataframe thead th {\n",
       "        text-align: right;\n",
       "    }\n",
       "</style>\n",
       "<table border=\"1\" class=\"dataframe\">\n",
       "  <thead>\n",
       "    <tr style=\"text-align: right;\">\n",
       "      <th></th>\n",
       "      <th>0</th>\n",
       "      <th>1</th>\n",
       "    </tr>\n",
       "  </thead>\n",
       "  <tbody>\n",
       "    <tr>\n",
       "      <th>0</th>\n",
       "      <td>n03028079</td>\n",
       "      <td>1300</td>\n",
       "    </tr>\n",
       "    <tr>\n",
       "      <th>1</th>\n",
       "      <td>n03394916</td>\n",
       "      <td>1300</td>\n",
       "    </tr>\n",
       "    <tr>\n",
       "      <th>2</th>\n",
       "      <td>n03445777</td>\n",
       "      <td>1300</td>\n",
       "    </tr>\n",
       "    <tr>\n",
       "      <th>3</th>\n",
       "      <td>n03425413</td>\n",
       "      <td>1300</td>\n",
       "    </tr>\n",
       "    <tr>\n",
       "      <th>4</th>\n",
       "      <td>n02979186</td>\n",
       "      <td>1300</td>\n",
       "    </tr>\n",
       "    <tr>\n",
       "      <th>5</th>\n",
       "      <td>n03000684</td>\n",
       "      <td>1194</td>\n",
       "    </tr>\n",
       "    <tr>\n",
       "      <th>6</th>\n",
       "      <td>n01440764</td>\n",
       "      <td>1300</td>\n",
       "    </tr>\n",
       "    <tr>\n",
       "      <th>7</th>\n",
       "      <td>n03888257</td>\n",
       "      <td>1300</td>\n",
       "    </tr>\n",
       "    <tr>\n",
       "      <th>8</th>\n",
       "      <td>n02102040</td>\n",
       "      <td>1300</td>\n",
       "    </tr>\n",
       "    <tr>\n",
       "      <th>9</th>\n",
       "      <td>n03417042</td>\n",
       "      <td>1300</td>\n",
       "    </tr>\n",
       "  </tbody>\n",
       "</table>\n",
       "</div>"
      ],
      "text/plain": [
       "           0     1\n",
       "0  n03028079  1300\n",
       "1  n03394916  1300\n",
       "2  n03445777  1300\n",
       "3  n03425413  1300\n",
       "4  n02979186  1300\n",
       "5  n03000684  1194\n",
       "6  n01440764  1300\n",
       "7  n03888257  1300\n",
       "8  n02102040  1300\n",
       "9  n03417042  1300"
      ]
     },
     "execution_count": 15,
     "metadata": {},
     "output_type": "execute_result"
    }
   ],
   "source": [
    "pd.DataFrame(zip(test2, samples))"
   ]
  },
  {
   "cell_type": "code",
   "execution_count": 12,
   "metadata": {},
   "outputs": [
    {
     "data": {
      "text/plain": [
       "12894"
      ]
     },
     "execution_count": 12,
     "metadata": {},
     "output_type": "execute_result"
    }
   ],
   "source": [
    "test2 = [x for x in (path/'train').glob(\"**/*\") if x.is_file()]"
   ]
  },
  {
   "cell_type": "code",
   "execution_count": 12,
   "metadata": {},
   "outputs": [
    {
     "data": {
      "text/plain": [
       "1300"
      ]
     },
     "execution_count": 12,
     "metadata": {},
     "output_type": "execute_result"
    }
   ],
   "source": [
    "len(test2)"
   ]
  },
  {
   "cell_type": "code",
   "execution_count": 14,
   "metadata": {},
   "outputs": [
    {
     "ename": "ValueError",
     "evalue": "Range cannot be empty (low >= high) unless no samples are taken",
     "output_type": "error",
     "traceback": [
      "\u001b[0;31m---------------------------------------------------------------------------\u001b[0m",
      "\u001b[0;31mValueError\u001b[0m                                Traceback (most recent call last)",
      "\u001b[0;32m<ipython-input-14-e74b9fcaf3f7>\u001b[0m in \u001b[0;36m<module>\u001b[0;34m\u001b[0m\n\u001b[0;32m----> 1\u001b[0;31m \u001b[0mnp\u001b[0m\u001b[0;34m.\u001b[0m\u001b[0mrandom\u001b[0m\u001b[0;34m.\u001b[0m\u001b[0mrandint\u001b[0m\u001b[0;34m(\u001b[0m\u001b[0mlen\u001b[0m\u001b[0;34m(\u001b[0m\u001b[0mtest2\u001b[0m\u001b[0;34m)\u001b[0m\u001b[0;34m,\u001b[0m \u001b[0;36m10\u001b[0m\u001b[0;34m)\u001b[0m\u001b[0;34m\u001b[0m\u001b[0;34m\u001b[0m\u001b[0m\n\u001b[0m",
      "\u001b[0;32mmtrand.pyx\u001b[0m in \u001b[0;36mmtrand.RandomState.randint\u001b[0;34m()\u001b[0m\n",
      "\u001b[0;31mValueError\u001b[0m: Range cannot be empty (low >= high) unless no samples are taken"
     ]
    }
   ],
   "source": [
    "np.random.randint(len(test2), 10)"
   ]
  },
  {
   "cell_type": "code",
   "execution_count": 15,
   "metadata": {},
   "outputs": [],
   "source": [
    "size = []\n",
    "for fn in test2:\n",
    "    size.append(PIL.Image.open(fn).size)"
   ]
  },
  {
   "cell_type": "code",
   "execution_count": 16,
   "metadata": {},
   "outputs": [
    {
     "data": {
      "text/plain": [
       "1300"
      ]
     },
     "execution_count": 16,
     "metadata": {},
     "output_type": "execute_result"
    }
   ],
   "source": [
    "len(size)"
   ]
  },
  {
   "cell_type": "code",
   "execution_count": 21,
   "metadata": {},
   "outputs": [],
   "source": [
    "tmp = pd.Series(size)"
   ]
  },
  {
   "cell_type": "code",
   "execution_count": 22,
   "metadata": {},
   "outputs": [
    {
     "data": {
      "text/plain": [
       "(500, 375)      263\n",
       "(500, 333)       61\n",
       "(400, 300)       44\n",
       "(640, 480)       40\n",
       "(240, 180)       24\n",
       "(500, 334)       23\n",
       "(375, 500)       23\n",
       "(200, 150)       16\n",
       "(600, 450)       14\n",
       "(800, 600)       13\n",
       "(500, 374)       12\n",
       "(300, 225)       12\n",
       "(500, 377)       11\n",
       "(1600, 1200)      9\n",
       "(1024, 768)       9\n",
       "(500, 281)        8\n",
       "(275, 206)        7\n",
       "(448, 336)        6\n",
       "(320, 240)        6\n",
       "(333, 500)        5\n",
       "(500, 332)        5\n",
       "(431, 287)        5\n",
       "(480, 320)        4\n",
       "(260, 195)        4\n",
       "(350, 263)        4\n",
       "(2048, 1536)      4\n",
       "(250, 187)        4\n",
       "(625, 469)        4\n",
       "(450, 600)        4\n",
       "(226, 169)        4\n",
       "               ... \n",
       "(425, 239)        1\n",
       "(757, 502)        1\n",
       "(240, 136)        1\n",
       "(192, 300)        1\n",
       "(150, 200)        1\n",
       "(250, 170)        1\n",
       "(500, 378)        1\n",
       "(700, 467)        1\n",
       "(383, 575)        1\n",
       "(355, 168)        1\n",
       "(238, 252)        1\n",
       "(500, 290)        1\n",
       "(257, 138)        1\n",
       "(200, 267)        1\n",
       "(300, 250)        1\n",
       "(200, 149)        1\n",
       "(354, 500)        1\n",
       "(600, 452)        1\n",
       "(320, 241)        1\n",
       "(200, 286)        1\n",
       "(325, 218)        1\n",
       "(276, 211)        1\n",
       "(269, 158)        1\n",
       "(167, 220)        1\n",
       "(240, 195)        1\n",
       "(500, 336)        1\n",
       "(200, 173)        1\n",
       "(788, 569)        1\n",
       "(388, 344)        1\n",
       "(798, 416)        1\n",
       "Length: 602, dtype: int64"
      ]
     },
     "execution_count": 22,
     "metadata": {},
     "output_type": "execute_result"
    }
   ],
   "source": [
    "tmp.value_counts()"
   ]
  },
  {
   "cell_type": "code",
   "execution_count": null,
   "metadata": {},
   "outputs": [],
   "source": []
  }
 ],
 "metadata": {
  "kernelspec": {
   "display_name": "Python 3",
   "language": "python",
   "name": "python3"
  },
  "language_info": {
   "codemirror_mode": {
    "name": "ipython",
    "version": 3
   },
   "file_extension": ".py",
   "mimetype": "text/x-python",
   "name": "python",
   "nbconvert_exporter": "python",
   "pygments_lexer": "ipython3",
   "version": "3.7.3"
  }
 },
 "nbformat": 4,
 "nbformat_minor": 2
}
